{
  "cells": [
    {
      "cell_type": "code",
      "execution_count": 1,
      "metadata": {
        "id": "DB_taAWTVSdz"
      },
      "outputs": [],
      "source": [
        "import tensorflow as tf\n",
        "import numpy as np\n",
        "import pandas as pd\n",
        "from tensorflow.keras import layers\n",
        "from matplotlib import pyplot as plt\n",
        "\n",
        "# The following lines adjust the granularity of reporting.\n",
        "pd.options.display.max_rows = 10\n",
        "pd.options.display.float_format = \"{:.1f}\".format\n",
        "\n",
        "tf.keras.backend.set_floatx('float32')"
      ]
    },
    {
      "cell_type": "code",
      "execution_count": 10,
      "metadata": {
        "id": "j00aTJ5FVSd2"
      },
      "outputs": [],
      "source": [
        "# Load the dataset\n",
        "train_df = pd.read_csv(\"https://download.mlcc.google.com/mledu-datasets/california_housing_train.csv\")\n",
        "test_df = pd.read_csv(\"https://download.mlcc.google.com/mledu-datasets/california_housing_test.csv\")\n",
        "\n",
        "scale_factor = 1000.0\n",
        "# Scale the training set's label\n",
        "train_df['median_house_value'] /= scale_factor\n",
        "\n",
        "# Scale the test set's label\n",
        "test_df['median_house_value'] /= scale_factor\n",
        "\n",
        "# Shuffle the examples\n",
        "train_df = train_df.reindex(np.random.permutation(train_df.index))\n",
        "\n",
        "inputs = {\n",
        "    'latitude':\n",
        "        tf.keras.layers.Input(shape=(1,), dtype=tf.float32,\n",
        "                              name='latitude'),\n",
        "    'longitude':\n",
        "        tf.keras.layers.Input(shape=(1,), dtype=tf.float32,\n",
        "                              name='longitude')\n",
        "}\n",
        "\n",
        "# Train a model and plot the output\n",
        "def create_model(my_inputs, my_outputs, my_learning_rate):\n",
        "    model = tf.keras.Model(inputs=my_inputs, outputs=my_outputs)\n",
        "\n",
        "    # Construct the model to execute\n",
        "    model.compile(optimizer=tf.keras.optimizers.experimental.RMSprop(\n",
        "        learning_rate=my_learning_rate),\n",
        "        loss = 'mean_squared_error',\n",
        "        metrics=[tf.keras.metrics.RootMeanSquaredError()])\n",
        "    return model"
      ]
    },
    {
      "cell_type": "code",
      "execution_count": 9,
      "metadata": {
        "id": "87X4oenIVSd3"
      },
      "outputs": [],
      "source": [
        "def train_model(model, dataset, epochs, batch_size, label_name):\n",
        "    features = {name:np.array(value) for name, value in dataset.items()}\n",
        "    label = np.array(features.pop(label_name))\n",
        "    history = model.fit(x=features, y=label, batch_size=batch_size, epochs=epochs, shuffle=True)\n",
        "\n",
        "    # The list of epochs is stored separately from the rest of history.\n",
        "    epochs = history.epoch\n",
        "\n",
        "    # Isolate the mean absolute error for each epoch.\n",
        "    hist = pd.DataFrame(history.history)\n",
        "    rmse = hist[\"root_mean_squared_error\"]\n",
        "\n",
        "    return epochs, rmse\n",
        "\n"
      ]
    },
    {
      "cell_type": "code",
      "execution_count": 5,
      "metadata": {
        "id": "5FpMO8hJVSd3"
      },
      "outputs": [],
      "source": [
        "def plot_the_loss_curve(epochs, rmse):\n",
        "    plt.figure()\n",
        "    plt.xlabel('Epoch')\n",
        "    plt.ylabel('Root Mean Squared Error')\n",
        "\n",
        "    plt.plot(epochs, rmse, label='Loss')\n",
        "    plt.legend()\n",
        "    plt.ylim([rmse.min() * 0.94, rmse.max() * 1.05])\n",
        "    plt.show()\n",
        "\n",
        "    print(\"Plot was defined as well---------->\")\n",
        "\n"
      ]
    },
    {
      "cell_type": "code",
      "execution_count": 11,
      "metadata": {
        "colab": {
          "base_uri": "https://localhost:8080/",
          "height": 1000
        },
        "id": "dJ5zmKheVSd4",
        "outputId": "1319307d-3a39-4d5e-e998-af543685cdc6"
      },
      "outputs": [
        {
          "output_type": "stream",
          "name": "stdout",
          "text": [
            "Epoch 1/30\n"
          ]
        },
        {
          "output_type": "stream",
          "name": "stderr",
          "text": [
            "/usr/local/lib/python3.10/dist-packages/keras/src/engine/functional.py:642: UserWarning: Input dict contained keys ['housing_median_age', 'total_rooms', 'total_bedrooms', 'population', 'households', 'median_income'] which did not match any model input. They will be ignored by the model.\n",
            "  inputs = self._flatten_to_reference_inputs(inputs)\n"
          ]
        },
        {
          "output_type": "stream",
          "name": "stdout",
          "text": [
            "170/170 [==============================] - 1s 2ms/step - loss: 13677.8594 - root_mean_squared_error: 116.9524\n",
            "Epoch 2/30\n",
            "170/170 [==============================] - 0s 2ms/step - loss: 13545.9775 - root_mean_squared_error: 116.3872\n",
            "Epoch 3/30\n",
            "170/170 [==============================] - 0s 2ms/step - loss: 13476.6191 - root_mean_squared_error: 116.0888\n",
            "Epoch 4/30\n",
            "170/170 [==============================] - 0s 2ms/step - loss: 13385.8164 - root_mean_squared_error: 115.6971\n",
            "Epoch 5/30\n",
            "170/170 [==============================] - 0s 2ms/step - loss: 13310.9443 - root_mean_squared_error: 115.3731\n",
            "Epoch 6/30\n",
            "170/170 [==============================] - 0s 2ms/step - loss: 13280.1973 - root_mean_squared_error: 115.2397\n",
            "Epoch 7/30\n",
            "170/170 [==============================] - 0s 2ms/step - loss: 13204.7686 - root_mean_squared_error: 114.9120\n",
            "Epoch 8/30\n",
            "170/170 [==============================] - 0s 2ms/step - loss: 13177.9775 - root_mean_squared_error: 114.7954\n",
            "Epoch 9/30\n",
            "170/170 [==============================] - 0s 2ms/step - loss: 13101.5684 - root_mean_squared_error: 114.4621\n",
            "Epoch 10/30\n",
            "170/170 [==============================] - 0s 2ms/step - loss: 13074.1641 - root_mean_squared_error: 114.3423\n",
            "Epoch 11/30\n",
            "170/170 [==============================] - 0s 2ms/step - loss: 13088.1826 - root_mean_squared_error: 114.4036\n",
            "Epoch 12/30\n",
            "170/170 [==============================] - 0s 1ms/step - loss: 13029.7012 - root_mean_squared_error: 114.1477\n",
            "Epoch 13/30\n",
            "170/170 [==============================] - 0s 2ms/step - loss: 13004.7734 - root_mean_squared_error: 114.0385\n",
            "Epoch 14/30\n",
            "170/170 [==============================] - 0s 2ms/step - loss: 13006.8691 - root_mean_squared_error: 114.0477\n",
            "Epoch 15/30\n",
            "170/170 [==============================] - 0s 1ms/step - loss: 12938.3262 - root_mean_squared_error: 113.7468\n",
            "Epoch 16/30\n",
            "170/170 [==============================] - 0s 1ms/step - loss: 12954.6729 - root_mean_squared_error: 113.8186\n",
            "Epoch 17/30\n",
            "170/170 [==============================] - 0s 2ms/step - loss: 12937.1279 - root_mean_squared_error: 113.7415\n",
            "Epoch 18/30\n",
            "170/170 [==============================] - 0s 2ms/step - loss: 12899.2285 - root_mean_squared_error: 113.5748\n",
            "Epoch 19/30\n",
            "170/170 [==============================] - 0s 2ms/step - loss: 12919.5352 - root_mean_squared_error: 113.6641\n",
            "Epoch 20/30\n",
            "170/170 [==============================] - 0s 2ms/step - loss: 12913.8984 - root_mean_squared_error: 113.6393\n",
            "Epoch 21/30\n",
            "170/170 [==============================] - 0s 2ms/step - loss: 12869.4170 - root_mean_squared_error: 113.4435\n",
            "Epoch 22/30\n",
            "170/170 [==============================] - 0s 1ms/step - loss: 12885.9170 - root_mean_squared_error: 113.5162\n",
            "Epoch 23/30\n",
            "170/170 [==============================] - 0s 2ms/step - loss: 12846.1992 - root_mean_squared_error: 113.3411\n",
            "Epoch 24/30\n",
            "170/170 [==============================] - 0s 2ms/step - loss: 12832.1523 - root_mean_squared_error: 113.2791\n",
            "Epoch 25/30\n",
            "170/170 [==============================] - 0s 2ms/step - loss: 12839.5664 - root_mean_squared_error: 113.3118\n",
            "Epoch 26/30\n",
            "170/170 [==============================] - 0s 2ms/step - loss: 12837.9375 - root_mean_squared_error: 113.3046\n",
            "Epoch 27/30\n",
            "170/170 [==============================] - 0s 2ms/step - loss: 12829.0879 - root_mean_squared_error: 113.2656\n",
            "Epoch 28/30\n",
            "170/170 [==============================] - 0s 2ms/step - loss: 12831.3643 - root_mean_squared_error: 113.2756\n",
            "Epoch 29/30\n",
            "170/170 [==============================] - 0s 2ms/step - loss: 12836.3252 - root_mean_squared_error: 113.2975\n",
            "Epoch 30/30\n",
            "170/170 [==============================] - 0s 2ms/step - loss: 12822.0195 - root_mean_squared_error: 113.2344\n",
            "Model: \"model_2\"\n",
            "__________________________________________________________________________________________________\n",
            " Layer (type)                Output Shape                 Param #   Connected to                  \n",
            "==================================================================================================\n",
            " latitude (InputLayer)       [(None, 1)]                  0         []                            \n",
            "                                                                                                  \n",
            " longitude (InputLayer)      [(None, 1)]                  0         []                            \n",
            "                                                                                                  \n",
            " concatenate_2 (Concatenate  (None, 2)                    0         ['latitude[0][0]',            \n",
            " )                                                                   'longitude[0][0]']           \n",
            "                                                                                                  \n",
            " dense_layer (Dense)         (None, 1)                    3         ['concatenate_2[0][0]']       \n",
            "                                                                                                  \n",
            "==================================================================================================\n",
            "Total params: 3 (12.00 Byte)\n",
            "Trainable params: 3 (12.00 Byte)\n",
            "Non-trainable params: 0 (0.00 Byte)\n",
            "__________________________________________________________________________________________________\n"
          ]
        },
        {
          "output_type": "display_data",
          "data": {
            "text/plain": [
              "<Figure size 640x480 with 1 Axes>"
            ],
            "image/png": "[encoded data removed]"
          },
          "metadata": {}
        },
        {
          "output_type": "stream",
          "name": "stdout",
          "text": [
            "Plot was defined as well---------->\n",
            "30/30 [==============================] - 0s 2ms/step - loss: 12195.9531 - root_mean_squared_error: 110.4353\n"
          ]
        },
        {
          "output_type": "execute_result",
          "data": {
            "text/plain": [
              "[12195.953125, 110.43528747558594]"
            ]
          },
          "metadata": {},
          "execution_count": 11
        }
      ],
      "source": [
        "# The following variables are the hyperparameters.\n",
        "learning_rate = 0.1\n",
        "epochs = 30\n",
        "batch_size = 100\n",
        "label_name = 'median_house_value'\n",
        "\n",
        "preprocessing_layer = tf.keras.layers.Concatenate()(inputs.values())\n",
        "\n",
        "dense_output = layers.Dense(units=1, name='dense_layer')(preprocessing_layer)\n",
        "\n",
        "outputs = {\n",
        "  'dense_output': dense_output\n",
        "}\n",
        "\n",
        "# Create and compile\n",
        "my_model = create_model(inputs, outputs, learning_rate)\n",
        "\n",
        "# Train the model on the training set.\n",
        "epochs, rmse = train_model(my_model, train_df, epochs, batch_size, label_name)\n",
        "\n",
        "# Print out the model summary.\n",
        "my_model.summary(expand_nested=True)\n",
        "\n",
        "plot_the_loss_curve(epochs, rmse)\n",
        "\n",
        "test_features = {name:np.array(value) for name, value in test_df.items()}\n",
        "test_label = np.array(test_features.pop(label_name))\n",
        "my_model.evaluate(x=test_features, y=test_label, batch_size=batch_size)"
      ]
    }
  ],
  "metadata": {
    "kernelspec": {
      "display_name": "Python 3",
      "language": "python",
      "name": "python3"
    },
    "language_info": {
      "codemirror_mode": {
        "name": "ipython",
        "version": 3
      },
      "file_extension": ".py",
      "mimetype": "text/x-python",
      "name": "python",
      "nbconvert_exporter": "python",
      "pygments_lexer": "ipython3",
      "version": "3.12.0"
    },
    "colab": {
      "provenance": []
    }
  },
  "nbformat": 4,
  "nbformat_minor": 0
}